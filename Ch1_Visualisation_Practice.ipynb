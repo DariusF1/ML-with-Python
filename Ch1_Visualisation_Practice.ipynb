"""
Chapters 1 and 2 - Introduction to Statistical Learning
applying python code to statistical analysis 
"""
import os
import pandas as pd
import numpy as np
import matplotlib.pyplot as plt
%matplotlib inline

os.chdir(r'C:\Users\pigle\OneDrive\Documents\Business Analytics\Python Tutorials\Stats_Python\ALL CSV FILES - 2nd Edition')
df_wage = pd.read_csv('Wage.csv')
df_wage.head(10)
df_wage.info()
df_wage.describe(include=['object'])

#plt.style.available ##look at all available plotting styles
plt.style.use("ggplot")
## need to reshape data to plot correctly i.e. x axis for boxplot=education level
df_edu = df_wage.pivot(columns='education', values='wage') 
df_edu.head(15)
##importing statsmodels library to fit Locally Weighted Scatterplot Smoothing curve through data
import statsmodels.api as sm

fig, ax = plt.subplots(1,3,figsize=(14,6))
df_wage.plot.scatter('age', 'wage', ax=ax[0])
lowess = sm.nonparametric.lowess(df_wage['wage'],df_wage['age'], frac=0.2)
ax[0].plot(lowess[:,0], lowess[:,1])

df_wage.plot.scatter('year','wage', ax=ax[1])
year_median = df_wage.groupby('year')['wage'].median()
ax[1].plot(year_median)

boxplot = df_edu.plot.box(ax=ax[2], rot=45, patch_artist=True)
colors = ['lightblue','green','yellow','blue','red']
for artist, color in zip(boxplot.artists, colors):
    artist.set_facecolor(color)

import seaborn as sns ##seaborn does it better!
sns.lmplot('age', 'wage', data=df_wage, hue='education')
sns.lmplot('year', 'wage', data=df_wage, ci=99.99, hue='education')
sns.boxplot('education', 'wage', data=df_wage);


    